{
 "cells": [
  {
   "cell_type": "code",
   "execution_count": 56,
   "metadata": {},
   "outputs": [
    {
     "name": "stdout",
     "output_type": "stream",
     "text": [
      "8.0\n"
     ]
    }
   ],
   "source": [
    "import numpy as np\n",
    "\n",
    "# age\n",
    "a = np.array([13,15,16,18,19,20,20,21,22,22,25,25,25,30,33,33,35,35,36,40,45,46,52,70])\n",
    "print(len(a) / 3)   # 多少箱"
   ]
  },
  {
   "cell_type": "code",
   "execution_count": 57,
   "metadata": {},
   "outputs": [
    {
     "name": "stdout",
     "output_type": "stream",
     "text": [
      "0.0,0.04,0.05,0.09,0.11,0.12,0.12,0.14,0.16,0.16,0.21,0.21,0.21,0.3,0.35,0.35,0.39,0.39,0.4,0.47,0.56,0.58,0.68,1.0,"
     ]
    }
   ],
   "source": [
    "\n",
    "# 使用最小最大规范化归一化\n",
    "normal_a = (a-np.min(a)) / (np.max(a)-np.min(a))\n",
    "for i in normal_a:\n",
    "    print(str(np.around(i,2))+\",\",end='')"
   ]
  },
  {
   "cell_type": "code",
   "execution_count": 58,
   "metadata": {},
   "outputs": [
    {
     "name": "stdout",
     "output_type": "stream",
     "text": [
      "-1.3,-1.15,-1.07,-0.91,-0.84,-0.76,-0.76,-0.68,-0.61,-0.61,-0.37,-0.37,-0.37,0.01,0.24,0.24,0.4,0.4,0.48,0.79,1.17,1.25,1.71,3.1,"
     ]
    }
   ],
   "source": [
    "# 使用z-scores规范化，其中age的标准差为12.94\n",
    "z_a = (a - np.mean(a)) / 12.94\n",
    "for i in z_a:\n",
    "    print(str(np.around(i,2))+\",\",end='')"
   ]
  },
  {
   "cell_type": "code",
   "execution_count": 59,
   "metadata": {},
   "outputs": [
    {
     "name": "stdout",
     "output_type": "stream",
     "text": [
      "0.13,0.15,0.16,0.18,0.19,0.2,0.2,0.21,0.22,0.22,0.25,0.25,0.25,0.3,0.33,0.33,0.35,0.35,0.36,0.4,0.45,0.46,0.52,0.7,"
     ]
    }
   ],
   "source": [
    "# 使用小数定标规范化\n",
    "max_len = len(str(np.max(np.abs(a))))\n",
    "deci_a = a / 10 ** max_len\n",
    "for i in deci_a:\n",
    "    print(str(np.around(i,2))+\",\",end='')"
   ]
  },
  {
   "cell_type": "code",
   "execution_count": 60,
   "metadata": {},
   "outputs": [
    {
     "data": {
      "image/png": "[encoded data removed]",
      "text/plain": [
       "<Figure size 640x480 with 1 Axes>"
      ]
     },
     "metadata": {},
     "output_type": "display_data"
    }
   ],
   "source": [
    "# 宽度为10的等宽直方图\n",
    "import matplotlib.pyplot as plt\n",
    "plt.hist(a, bins=10)\n",
    "plt.xticks(np.arange(10, 80, 10))\n",
    "plt.show()"
   ]
  },
  {
   "cell_type": "code",
   "execution_count": 61,
   "metadata": {},
   "outputs": [
    {
     "name": "stdout",
     "output_type": "stream",
     "text": [
      "    count     age  buy\n",
      "0      64   young   no\n",
      "1      64   young   no\n",
      "2     128  middle  yes\n",
      "3      60     old  yes\n",
      "4      64     old  yes\n",
      "5      64     old   no\n",
      "6      64  middle  yes\n",
      "7     128   young   no\n",
      "8      64   young  yes\n",
      "9     132     old  yes\n",
      "10     64   young  yes\n",
      "11     32  middle  yes\n",
      "12     32  middle  yes\n",
      "13     63     old   no\n",
      "14      1     old  yes\n"
     ]
    }
   ],
   "source": [
    "# 计算age的信息熵\n",
    "import pandas as pd\n",
    "data = pd.read_csv('buy_computer.csv')\n",
    "df = pd.DataFrame(data)\n",
    "df = df.drop(['income','student','credit'], axis=1) # 删除列\n",
    "print(df)"
   ]
  },
  {
   "cell_type": "code",
   "execution_count": 67,
   "metadata": {},
   "outputs": [
    {
     "name": "stdout",
     "output_type": "stream",
     "text": [
      "    count    age  buy\n",
      "0      64  young   no\n",
      "1      64  young   no\n",
      "7     128  young   no\n",
      "8      64  young  yes\n",
      "10     64  young  yes\n",
      "     count\n",
      "buy       \n",
      "no     256\n",
      "yes    128\n",
      "0.9182958340544896\n"
     ]
    }
   ],
   "source": [
    "D1 = df[df['age'] == 'young']\n",
    "print(D1)\n",
    "print(D1.groupby('buy').sum('count'))\n",
    "ent1 = -((128/(256+128))*np.log2(128/(256+128)) + (256/(256+128))*np.log2(256/(256+128)))\n",
    "print(ent1)\n"
   ]
  },
  {
   "cell_type": "code",
   "execution_count": 69,
   "metadata": {},
   "outputs": [
    {
     "name": "stdout",
     "output_type": "stream",
     "text": [
      "    count     age  buy\n",
      "2     128  middle  yes\n",
      "6      64  middle  yes\n",
      "11     32  middle  yes\n",
      "12     32  middle  yes\n",
      "     count\n",
      "buy       \n",
      "yes    256\n"
     ]
    }
   ],
   "source": [
    "D2 = df[df['age'] == 'middle']\n",
    "print(D2)\n",
    "print(D2.groupby('buy').sum('count'))\n",
    "ent2 = 0"
   ]
  },
  {
   "cell_type": "code",
   "execution_count": 68,
   "metadata": {},
   "outputs": [
    {
     "name": "stdout",
     "output_type": "stream",
     "text": [
      "    count  age  buy\n",
      "3      60  old  yes\n",
      "4      64  old  yes\n",
      "5      64  old   no\n",
      "9     132  old  yes\n",
      "13     63  old   no\n",
      "14      1  old  yes\n",
      "     count\n",
      "buy       \n",
      "no     127\n",
      "yes    257\n",
      "0.9156696247761256\n"
     ]
    }
   ],
   "source": [
    "D3 = df[df['age'] == 'old']\n",
    "print(D3)\n",
    "print(D3.groupby('buy').sum('count'))\n",
    "ent3 = -((127/(127+257))*np.log2(127/(127+257)) + (+257/(127+257))*np.log2(+257/(127+257)))\n",
    "print(ent3)"
   ]
  },
  {
   "cell_type": "code",
   "execution_count": 70,
   "metadata": {},
   "outputs": [
    {
     "name": "stdout",
     "output_type": "stream",
     "text": [
      "0.6877370470614808\n"
     ]
    }
   ],
   "source": [
    "# 计算年龄信息熵\n",
    "ent=384/1024*ent1 + 256/1024*ent2 + 384/1024*ent3\n",
    "print(ent)"
   ]
  }
 ],
 "metadata": {
  "kernelspec": {
   "display_name": "Python 3.10.7 64-bit",
   "language": "python",
   "name": "python3"
  },
  "language_info": {
   "codemirror_mode": {
    "name": "ipython",
    "version": 3
   },
   "file_extension": ".py",
   "mimetype": "text/x-python",
   "name": "python",
   "nbconvert_exporter": "python",
   "pygments_lexer": "ipython3",
   "version": "3.10.7"
  },
  "orig_nbformat": 4,
  "vscode": {
   "interpreter": {
    "hash": "959d069f6ff020efed0ca9fa7231dc2ce12b2a9cf101f645a42bcaecf62bd0f8"
   }
  }
 },
 "nbformat": 4,
 "nbformat_minor": 2
}
