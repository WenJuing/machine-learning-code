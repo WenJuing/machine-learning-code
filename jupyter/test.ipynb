{
 "cells": [
  {
   "cell_type": "code",
   "execution_count": 1,
   "metadata": {},
   "outputs": [],
   "source": [
    "class TEST:\n",
    "    def __init__(self):\n",
    "        self.x = None\n",
    "    \n",
    "    def add(self, a, b):\n",
    "        a += 1\n",
    "        b += 1"
   ]
  },
  {
   "cell_type": "code",
   "execution_count": 4,
   "metadata": {},
   "outputs": [
    {
     "name": "stdout",
     "output_type": "stream",
     "text": [
      "1 1\n",
      "1 1\n"
     ]
    }
   ],
   "source": [
    "a = 1\n",
    "b = 1\n",
    "print(a, b)\n",
    "test = TEST()\n",
    "test.add(a, b)\n",
    "print(a, b)"
   ]
  }
 ],
 "metadata": {
  "kernelspec": {
   "display_name": "Python 3.10.7 64-bit",
   "language": "python",
   "name": "python3"
  },
  "language_info": {
   "codemirror_mode": {
    "name": "ipython",
    "version": 3
   },
   "file_extension": ".py",
   "mimetype": "text/x-python",
   "name": "python",
   "nbconvert_exporter": "python",
   "pygments_lexer": "ipython3",
   "version": "3.10.7"
  },
  "orig_nbformat": 4,
  "vscode": {
   "interpreter": {
    "hash": "959d069f6ff020efed0ca9fa7231dc2ce12b2a9cf101f645a42bcaecf62bd0f8"
   }
  }
 },
 "nbformat": 4,
 "nbformat_minor": 2
}
